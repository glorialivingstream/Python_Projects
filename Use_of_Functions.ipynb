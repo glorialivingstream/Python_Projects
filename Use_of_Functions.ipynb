{
 "cells": [
  {
   "cell_type": "markdown",
   "metadata": {},
   "source": [
    "### Q1\n",
    "\n",
    "Define a python function that calculate the perimeter of the rectangle\n",
    "\n",
    "Formular\n",
    "\n",
    "formular => 2 X length + 2 X Width"
   ]
  },
  {
   "cell_type": "code",
   "execution_count": null,
   "metadata": {},
   "outputs": [],
   "source": [
    "def perimeter(length, width):\n",
    "    formula = length * 2 + width *2 \n",
    "    return formula\n"
   ]
  },
  {
   "cell_type": "markdown",
   "metadata": {},
   "source": [
    "### Q2\n",
    "Define the function to calculate the area of a circle. Round the answer to 3 decimal places.\n",
    "\n",
    "**Preamble**\n",
    " - Take pi as 22/7\n",
    " - formular pi x r ** 2"
   ]
  },
  {
   "cell_type": "code",
   "execution_count": null,
   "metadata": {},
   "outputs": [],
   "source": [
    "def area(pi, r):\n",
    "    formula = round(pi * r**2,3)\n",
    "    return formula"
   ]
  },
  {
   "cell_type": "markdown",
   "metadata": {},
   "source": [
    "### Q3\n",
    "Define a function that takes a list of numbers and print out the **mean**, **median** and **mode**.\n",
    "\n",
    "- Test your function with the list b\n",
    "\n",
    "`b = [2,3,4,6,7,3,4,3,2,1,3]`"
   ]
  },
  {
   "cell_type": "code",
   "execution_count": null,
   "metadata": {},
   "outputs": [],
   "source": [
    "from statistics import mean, median, mode"
   ]
  },
  {
   "cell_type": "code",
   "execution_count": null,
   "metadata": {},
   "outputs": [],
   "source": [
    "#Finding the mean, mode and median \n",
    "\n",
    "def calculate_stats(numbers):\n",
    "    \n",
    "    mean_value = mean(numbers)\n",
    "    print(f\"The mean is: {mean_value}\")\n",
    "    \n",
    "    median_value = median(numbers)\n",
    "    print(f\"The median is: {median_value}\")\n",
    "    \n",
    "    mode_value = mode(numbers)\n",
    "    print(f\"The mode is: {mode_value}\")"
   ]
  },
  {
   "cell_type": "code",
   "execution_count": null,
   "metadata": {},
   "outputs": [],
   "source": [
    "b = [2,3,4,6,7,3,4,3,2,1,3]\n",
    "\n",
    "calculate_stats(b)"
   ]
  },
  {
   "cell_type": "markdown",
   "metadata": {},
   "source": [
    "### Q4\n",
    "Define a function that prints out the list of the first 20 prime numbers"
   ]
  },
  {
   "cell_type": "code",
   "execution_count": null,
   "metadata": {},
   "outputs": [],
   "source": [
    "def primes(numbers):\n",
    "    if numbers <= 1:\n",
    "        return False\n",
    "    for x in range(2, int(numbers**0.5)+ 1):\n",
    "        if numbers % x == 0:\n",
    "            return False\n",
    "    return True\n",
    "\n",
    "def first_20_primes():\n",
    "    count = 0\n",
    "    numbers = 2\n",
    "    prime_numbers = []\n",
    "\n",
    "    while count < 20:\n",
    "        if primes(numbers):\n",
    "            prime_numbers.append(numbers)\n",
    "            count = count + 1\n",
    "        numbers = numbers + 1\n",
    "    \n",
    "    print(f\"The first 20 prime numbers are: {prime_numbers}\")\n",
    "\n",
    "first_20_primes()\n",
    "  "
   ]
  },
  {
   "cell_type": "markdown",
   "metadata": {},
   "source": [
    "#### Q5\n",
    "Define a function that takes a list of strings and print out the string and the length of the string.\n",
    "\n",
    "**Example of expected output**\n",
    "\n",
    "{\"Kofi\":4,\n",
    "\"Ama\":3,\n",
    "\"Sedem\":5}"
   ]
  },
  {
   "cell_type": "code",
   "execution_count": null,
   "metadata": {},
   "outputs": [],
   "source": [
    "def list_of_strings(strings):\n",
    "    length_of_strings = {}\n",
    "    for values in strings:\n",
    "        length_of_strings[values] = len(strings)\n",
    "    print(length_of_strings)\n",
    "    "
   ]
  },
  {
   "cell_type": "code",
   "execution_count": null,
   "metadata": {},
   "outputs": [],
   "source": [
    "#Trying with an example\n",
    "list_of_strings([\"Kofi\", \"Water\", \"Buffalo\"])"
   ]
  },
  {
   "cell_type": "markdown",
   "metadata": {},
   "source": [
    "### Q6\n",
    "Define a function that takes a list of strings and numbers and print out only the strings and the position of the strings.\n",
    "\n",
    "**Preamble**\n",
    "\n",
    "names = ['sedem', 'Kofi', 'kobla']\n",
    "\n",
    "**Expected Output**\n",
    "\n",
    "{'sedem': P0, 'Kofi': P1, 'kobla': P2}"
   ]
  },
  {
   "cell_type": "code",
   "execution_count": null,
   "metadata": {},
   "outputs": [],
   "source": [
    "def string_positions(names):\n",
    "    position_dict = {}\n",
    "    for n, string in enumerate(names):\n",
    "        position_dict[string] = f'P{n}'\n",
    "    print(position_dict)\n",
    "\n",
    "# Using the example\n",
    "names = ['sedem', 'Kofi', 'kobla']\n",
    "string_positions(['sedem', 'Kofi', 'kobla'])\n"
   ]
  },
  {
   "cell_type": "markdown",
   "metadata": {},
   "source": [
    "### Q7\n",
    "Define a function that returns whether the sum of a person age and person's date of birth equals 2023\n",
    "\n",
    "**Preamble**\n",
    "\n",
    "2001 + 22 => True\n",
    "\n",
    "2002 + 5 => False"
   ]
  },
  {
   "cell_type": "code",
   "execution_count": null,
   "metadata": {},
   "outputs": [],
   "source": [
    "def age_is_2023(date_of_birth, age):\n",
    "    return date_of_birth + age == 2023\n",
    "\n",
    "# Using the example\n",
    "print(age_is_2023(2001, 22))  \n",
    "print(age_is_2023(2002, 5))    \n"
   ]
  },
  {
   "cell_type": "markdown",
   "metadata": {},
   "source": [
    "### Q8\n",
    "Define a function that determine whether a particular year is a **decade**, the output should be a boolean (True or False)\n"
   ]
  },
  {
   "cell_type": "code",
   "execution_count": null,
   "metadata": {},
   "outputs": [],
   "source": [
    "def year_is_decade(year):\n",
    "    return year % 10 == 0\n",
    "\n",
    "# Using an example\n",
    "print(year_is_decade(1980))  \n",
    "print(year_is_decade(2002))  \n",
    "print(year_is_decade(1955)) \n",
    "print(year_is_decade(2024)) "
   ]
  },
  {
   "cell_type": "markdown",
   "metadata": {},
   "source": [
    "### Q9\n",
    "Define a function that contains a list of strings and punctuations,the output should on return the list of punctuations.\n"
   ]
  },
  {
   "cell_type": "code",
   "execution_count": null,
   "metadata": {},
   "outputs": [],
   "source": [
    "def strings_and_punctuations(words):\n",
    "    punctuations = [symbol for symbol in words if symbol in \"!\\\"#$%&'()*+,-./:;<=>?@[\\\\]^_`{|}~\"]\n",
    "    return punctuations\n",
    "\n",
    "# Using an example\n",
    "sentence = [\"My\",\"name\", \",\", \"is\", \"?\", \"Group2\", \"!\", \"We\", \"are\", \"5\", \"?\"]\n",
    "print(strings_and_punctuations(sentence))  \n"
   ]
  },
  {
   "cell_type": "markdown",
   "metadata": {},
   "source": [
    "### Q10\n",
    "\n",
    "Define a lambda function that print out the cubic root of a list of numbers"
   ]
  },
  {
   "cell_type": "code",
   "execution_count": null,
   "metadata": {},
   "outputs": [],
   "source": [
    "\n",
    "cubic_root = lambda x: x ** (1/3)\n",
    "\n",
    "# Using an example\n",
    "num = [27, 20, 10, 74, 12, 5, 6, 8]\n",
    "cubic_roots_numbers = list(map(cubic_root, num))\n",
    "print(cubic_roots_numbers)  \n"
   ]
  },
  {
   "cell_type": "markdown",
   "metadata": {},
   "source": [
    "### Q11\n",
    "Define a lambda function that print out the cube of a list of numbers"
   ]
  },
  {
   "cell_type": "code",
   "execution_count": null,
   "metadata": {},
   "outputs": [],
   "source": [
    "cube_num = lambda x: x**3\n",
    "\n",
    "# Using an example\n",
    "num = [2, 4, 17, 22, 54, 78, 101]\n",
    "cube_numbers = list(map(cube_num, num))\n",
    "print(cube_numbers)"
   ]
  },
  {
   "cell_type": "markdown",
   "metadata": {},
   "source": [
    "### Q12\n",
    "Define a function that take a list of list of numbers and return a list that contains the average of each sublist using map."
   ]
  },
  {
   "cell_type": "code",
   "execution_count": null,
   "metadata": {},
   "outputs": [],
   "source": [
    "def avg_of_lists(list_of_num):\n",
    "    \n",
    "    sublist_avg = lambda sublist: sum(sublist) / len(sublist)\n",
    "    \n",
    "    averages = list(map(sublist_avg, list_of_num))\n",
    "    return averages\n",
    "\n",
    "# Using an example\n",
    "list_of_num = [[7, 8, 65], [90, 5, 3], [3, 18, 19], [17, 46, 87], [54, 55, 2]]\n",
    "averages = avg_of_lists(list_of_num)\n",
    "print(averages)  \n"
   ]
  },
  {
   "cell_type": "markdown",
   "metadata": {},
   "source": [
    "### Q13\n",
    "Define a function that takes a list of strings and filter out strings that are upper case."
   ]
  },
  {
   "cell_type": "code",
   "execution_count": null,
   "metadata": {},
   "outputs": [],
   "source": [
    "def filter_upper(words):\n",
    "    filtered_uppercase = filter(lambda w: w.isupper(), words)\n",
    "    return list(filtered_uppercase)\n",
    "\n",
    "# Using an example\n",
    "uppercase_words = filter_upper([\"John\", \"KWAME\", \"Agyekum\", \"KUFFOUR\"])\n",
    "print(uppercase_words)  \n"
   ]
  },
  {
   "cell_type": "markdown",
   "metadata": {},
   "source": [
    "### Q14\n",
    "Define a function that takes a list of numbers and print out the numbers which are prime in the list."
   ]
  },
  {
   "cell_type": "code",
   "execution_count": null,
   "metadata": {},
   "outputs": [],
   "source": [
    "def prime_num(num):\n",
    "    if num <= 1:\n",
    "        return False\n",
    "    elif num <= 3:\n",
    "        return True\n",
    "    elif num % 2 == 0 or num % 3 == 0:\n",
    "        return False\n",
    "    j = 5\n",
    "    while j * j <= num:\n",
    "        if num % j == 0 or num % (j + 2) == 0:\n",
    "            return False\n",
    "        j += 6\n",
    "    return True\n",
    "\n",
    "def prime_numbers(numbers):\n",
    "    prime_numbers = filter(prime_num, numbers)\n",
    "    print(list(prime_numbers))\n",
    "\n",
    "# Using an example\n",
    "numbers = [17, 25, 31, 47, 5, 66, 72, 8, 99, 10]\n",
    "prime_numbers(numbers)\n"
   ]
  },
  {
   "cell_type": "markdown",
   "metadata": {},
   "source": [
    "### Q15\n",
    "Define a function that take a list of strings and return a zip of each string and length of a string."
   ]
  },
  {
   "cell_type": "code",
   "execution_count": null,
   "metadata": {},
   "outputs": [],
   "source": [
    "def zipped(words):\n",
    "    return zip(words, map(len, words))\n",
    "\n",
    "# Using an example\n",
    "zipped_words = zipped([\"London\", \"Lisbon\", \"Kumasi\", \"Taiwan\", \"Accra\"])\n",
    "print(list(zipped_words))  \n"
   ]
  },
  {
   "cell_type": "markdown",
   "metadata": {},
   "source": [
    "### Q16\n",
    "Define a function that takes in a number and return the first 12 multiples of the the number.\n",
    "\n",
    "Expected Output\n",
    "\n",
    "2 X 1 = 2\n",
    "\n",
    "to\n",
    "\n",
    "2 X 12 = 24"
   ]
  },
  {
   "cell_type": "code",
   "execution_count": null,
   "metadata": {},
   "outputs": [],
   "source": [
    "def multiples(num):\n",
    "    first_12_multiples = []\n",
    "    for n in range(1, 13):\n",
    "        first_12_multiples.append((num, n, num * n))\n",
    "    return first_12_multiples\n",
    "\n",
    "# Using an example\n",
    "num = 24\n",
    "first_12_multiples = multiples(num)\n",
    "for mul in first_12_multiples:\n",
    "    print(f\"{mul[0]} X {mul[1]} = {mul[2]}\")\n"
   ]
  },
  {
   "cell_type": "markdown",
   "metadata": {},
   "source": [
    "### Q17\n",
    "Write a Python function to find the maximum of three numbers.\n",
    "\n",
    "**Do not use the max function**"
   ]
  },
  {
   "cell_type": "code",
   "execution_count": null,
   "metadata": {},
   "outputs": [],
   "source": [
    "def max_num(num1, num2, num3):\n",
    "    if num1 >= num2 and num1 >= num3:\n",
    "        return num1\n",
    "    elif num2 >= num1 and num2 >= num3:\n",
    "        return num2\n",
    "    else:\n",
    "        return num3\n",
    "\n",
    "# Using an example\n",
    "num1 = 100\n",
    "num2 = 587\n",
    "num3 = 87\n",
    "print(\"The maximum number is:\", max_num(num1, num2, num3))\n"
   ]
  },
  {
   "cell_type": "markdown",
   "metadata": {},
   "source": [
    "### Q18\n",
    "Write a Python function to multiply all the numbers in a list."
   ]
  },
  {
   "cell_type": "code",
   "execution_count": null,
   "metadata": {},
   "outputs": [],
   "source": [
    "def num_multiplication(num):\n",
    "    multiplications_of_numbers = 1\n",
    "    for i in num:\n",
    "        multiplications_of_numbers *= i\n",
    "    return multiplications_of_numbers\n",
    "\n",
    "# Using an example\n",
    "num = [52, 31, 12, 33, 14, 50]\n",
    "print(\"The multiplication of all numbers in the list is:\", num_multiplication(num))\n"
   ]
  },
  {
   "cell_type": "markdown",
   "metadata": {},
   "source": [
    "### Q19\n",
    "Write a Python program to reverse a string"
   ]
  },
  {
   "cell_type": "code",
   "execution_count": null,
   "metadata": {},
   "outputs": [],
   "source": [
    "def rev_string(word):\n",
    "    return word[::-1]\n",
    "\n",
    "# Using an example\n",
    "word = \"Hello, my name is Dora! Can you help me find Boots?\"\n",
    "rev_string = rev_string(word)\n",
    "print(\"Original string:\", word)\n",
    "print(\"Reversed string:\", rev_string)\n"
   ]
  },
  {
   "cell_type": "markdown",
   "metadata": {},
   "source": [
    "### Q20\n",
    "Write a python function to return the length of a string."
   ]
  },
  {
   "cell_type": "code",
   "execution_count": null,
   "metadata": {},
   "outputs": [],
   "source": [
    "def length_of_string(strings):\n",
    "    return len(strings)\n",
    "\n",
    "# Using an example\n",
    "strings = \"Group 2 members are the best!\"\n",
    "print(\"The length of the string is\", length_of_string(strings))\n"
   ]
  },
  {
   "cell_type": "code",
   "execution_count": null,
   "metadata": {},
   "outputs": [],
   "source": [
    "#Defining a function to remind Blossom Academy of airtime disbursement: \n",
    "def reminder(week_number):\n",
    "    if week_number % 2 == 0 and 2 <= week_number <= 12:\n",
    "        return \"It is time to disburse airtime\"\n",
    "    else:\n",
    "        return \"It is not time to disburse airtime\"\n",
    "\n",
    "week_number = int(input(\"Enter the week number: \"))\n",
    "print(reminder(week_number))\n"
   ]
  }
 ],
 "metadata": {
  "kernelspec": {
   "display_name": "Python 3",
   "language": "python",
   "name": "python3"
  },
  "language_info": {
   "codemirror_mode": {
    "name": "ipython",
    "version": 3
   },
   "file_extension": ".py",
   "mimetype": "text/x-python",
   "name": "python",
   "nbconvert_exporter": "python",
   "pygments_lexer": "ipython3",
   "version": "3.8.5"
  }
 },
 "nbformat": 4,
 "nbformat_minor": 5
}
